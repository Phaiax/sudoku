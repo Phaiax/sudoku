{
 "cells": [
  {
   "cell_type": "code",
   "execution_count": 2,
   "metadata": {
    "collapsed": true
   },
   "outputs": [],
   "source": [
    "# These are all the modules we'll be using later. Make sure you can import them\n",
    "# before proceeding further.\n",
    "from __future__ import print_function\n",
    "import numpy as np\n",
    "import tensorflow as tf\n",
    "from six.moves import cPickle as pickle\n",
    "from six.moves import range"
   ]
  },
  {
   "cell_type": "code",
   "execution_count": 4,
   "metadata": {
    "collapsed": false
   },
   "outputs": [],
   "source": [
    "pickle_file = 'sudoku_ml_data'\n",
    "with open(pickle_file, 'rb') as f:\n",
    "    save = pickle.load(f)\n",
    "    locals().update(save)\n",
    "    del save"
   ]
  },
  {
   "cell_type": "code",
   "execution_count": 7,
   "metadata": {
    "collapsed": false
   },
   "outputs": [
    {
     "name": "stdout",
     "output_type": "stream",
     "text": [
      "Training set (200000, 28, 14) (200000,)\n",
      "Validation set (10000, 28, 14) (10000,)\n",
      "Test set (10000, 28, 14) (10000,)\n"
     ]
    }
   ],
   "source": [
    "print('Training set', train_dataset.shape, train_labels.shape)\n",
    "print('Validation set', valid_dataset.shape, valid_labels.shape)\n",
    "print('Test set', test_dataset.shape, test_labels.shape)"
   ]
  },
  {
   "cell_type": "code",
   "execution_count": 8,
   "metadata": {
    "collapsed": false
   },
   "outputs": [
    {
     "name": "stdout",
     "output_type": "stream",
     "text": [
      "Training set (200000, 28, 14, 1) (200000, 9)\n",
      "Validation set (10000, 28, 14, 1) (10000, 9)\n",
      "Test set (10000, 28, 14, 1) (10000, 9)\n"
     ]
    }
   ],
   "source": [
    "image_size = (28, 14)\n",
    "num_labels = 9\n",
    "num_channels = 1\n",
    "\n",
    "def reformat(dataset, labels):\n",
    "  dataset = dataset.reshape( (-1, image_size[0], image_size[1], num_channels) ).astype(np.float32)\n",
    "  labels = (np.arange(num_labels) == labels[:,None]).astype(np.float32)\n",
    "  return dataset, labels\n",
    "\n",
    "train_dataset, train_labels = reformat(train_dataset, train_labels)\n",
    "valid_dataset, valid_labels = reformat(valid_dataset, valid_labels)\n",
    "test_dataset, test_labels = reformat(test_dataset, test_labels)\n",
    "print('Training set', train_dataset.shape, train_labels.shape)\n",
    "print('Validation set', valid_dataset.shape, valid_labels.shape)\n",
    "print('Test set', test_dataset.shape, test_labels.shape)"
   ]
  },
  {
   "cell_type": "code",
   "execution_count": 9,
   "metadata": {
    "collapsed": true
   },
   "outputs": [],
   "source": [
    "def accuracy(predictions, labels):\n",
    "  return (100.0 * np.sum(np.argmax(predictions, 1) == np.argmax(labels, 1))\n",
    "          / predictions.shape[0])"
   ]
  },
  {
   "cell_type": "code",
   "execution_count": 22,
   "metadata": {
    "collapsed": false
   },
   "outputs": [
    {
     "name": "stdout",
     "output_type": "stream",
     "text": [
      "Conv 1 shape (16, 28, 14, 16) (n, 28, 14, 16)\n",
      "C+P  1 shape (16, 14, 7, 16) (n, 14, 7, 16)\n",
      "Conv 2 shape (16, 7, 4, 16) (n, 7, 4, 16)\n",
      "reshape      (16, 448) (n, 448)\n",
      "hidden      (16, 64) (n, 64)\n",
      "Conv 1 shape (10000, 28, 14, 16) (n, 28, 14, 16)\n",
      "C+P  1 shape (10000, 14, 7, 16) (n, 14, 7, 16)\n",
      "Conv 2 shape (10000, 7, 4, 16) (n, 7, 4, 16)\n",
      "reshape      (10000, 448) (n, 448)\n",
      "hidden      (10000, 64) (n, 64)\n",
      "Conv 1 shape (10000, 28, 14, 16) (n, 28, 14, 16)\n",
      "C+P  1 shape (10000, 14, 7, 16) (n, 14, 7, 16)\n",
      "Conv 2 shape (10000, 7, 4, 16) (n, 7, 4, 16)\n",
      "reshape      (10000, 448) (n, 448)\n",
      "hidden      (10000, 64) (n, 64)\n"
     ]
    }
   ],
   "source": [
    "batch_size = 16\n",
    "patch_size = 5\n",
    "depth = 16\n",
    "num_hidden = 64\n",
    "\n",
    "hyper = {'learn_rate': 0.1\n",
    "         ,'decay_rate': 0.9, 'decay_steps': 200\n",
    "        }\n",
    "graph = tf.Graph()\n",
    "\n",
    "with graph.as_default():\n",
    "\n",
    "  # Input data.\n",
    "  tf_train_dataset = tf.placeholder(\n",
    "    tf.float32, shape=(batch_size, image_size[0], image_size[1], num_channels))\n",
    "  tf_train_labels = tf.placeholder(tf.float32, shape=(batch_size, num_labels))\n",
    "  tf_valid_dataset = tf.constant(valid_dataset)\n",
    "  tf_test_dataset = tf.constant(test_dataset)\n",
    "  \n",
    "  # Variables.\n",
    "  global_step = tf.Variable(0)\n",
    "  if 'decay_steps' in hyper and 'decay_rate' in hyper:\n",
    "    learning_rate = tf.train.exponential_decay(hyper['learn_rate'], global_step, \n",
    "                                               decay_steps=hyper['decay_steps'],\n",
    "                                               decay_rate=hyper['decay_rate'],\n",
    "                                               staircase=True)\n",
    "  else:\n",
    "    learning_rate = hyper['learn_rate']\n",
    " \n",
    "  layer1_weights = tf.Variable(tf.truncated_normal(\n",
    "      [patch_size, patch_size, num_channels, depth], stddev=0.1))\n",
    "  layer1_biases = tf.Variable(tf.zeros([depth]))\n",
    "\n",
    "  layer2_weights = tf.Variable(tf.truncated_normal(\n",
    "      [patch_size, patch_size, depth, depth], stddev=0.1))\n",
    "  layer2_biases = tf.Variable(tf.constant(1.0, shape=[depth]))\n",
    "\n",
    "  layer3_weights = tf.Variable(tf.truncated_normal(\n",
    "      [image_size[0] // 4 * (image_size[1] // 4 + 1) * depth, num_hidden], stddev=0.1))\n",
    "  layer3_biases = tf.Variable(tf.constant(1.0, shape=[num_hidden]))\n",
    "\n",
    "  layer4_weights = tf.Variable(tf.truncated_normal(\n",
    "      [num_hidden, num_labels], stddev=0.1))\n",
    "  layer4_biases = tf.Variable(tf.constant(1.0, shape=[num_labels]))\n",
    "  \n",
    "  # Model.\n",
    "  def model(data, type):\n",
    "    # data: [batch width height channel] = [n 28 28 1]\n",
    "    # layer1_weights aka kernel size [fh:5, fw:5, in_ch:1, out_ch:16]\n",
    "    # strides [batch:1,w:2,h:2,ch:1]\n",
    "    conv = tf.nn.conv2d(data, layer1_weights, [1, 1, 1, 1], padding='SAME')\n",
    "    print(\"Conv 1 shape\", conv.shape, '(n, 28, 14, 16)')\n",
    "    conv = tf.nn.max_pool(conv, ksize=[1,2,2,1], strides=[1,2,2,1], padding='SAME')\n",
    "    print(\"C+P  1 shape\", conv.shape, '(n, 14, 7, 16)')\n",
    "    # layer1_biases: [16], default: 0\n",
    "    hidden = tf.nn.relu(conv + layer1_biases)\n",
    "\n",
    "    if type == 'train':\n",
    "        hidden = tf.nn.dropout(hidden, 0.5)\n",
    "    \n",
    "    # layer2_weights aka kernel size [fh:5, fw:5, in_ch:16, out_ch:16]\n",
    "    conv = tf.nn.conv2d(hidden, layer2_weights, [1, 1, 1, 1], padding='SAME')\n",
    "    conv = tf.nn.max_pool(conv, ksize=[1,2,2,1], strides=[1,2,2,1], padding='SAME')\n",
    "    print(\"Conv 2 shape\", conv.shape, '(n, 7, 4, 16)')\n",
    "    hidden = tf.nn.relu(conv + layer2_biases)\n",
    "    shape = hidden.get_shape().as_list()\n",
    "    \n",
    "    reshape = tf.reshape(hidden, [shape[0], shape[1] * shape[2] * shape[3]])\n",
    "    print(\"reshape     \", reshape.shape, '(n, 448)')\n",
    "    \n",
    "    hidden = tf.nn.relu(tf.matmul(reshape, layer3_weights) + layer3_biases)\n",
    "\n",
    "    if type == 'train':\n",
    "        hidden = tf.nn.dropout(hidden, 0.5)\n",
    "    \n",
    "    print(\"hidden     \", hidden.shape, '(n, 64)')\n",
    "    return tf.matmul(hidden, layer4_weights) + layer4_biases\n",
    "    # num_labels\n",
    "  \n",
    "  # Training computation.\n",
    "  logits = model(tf_train_dataset, 'train')\n",
    "  loss = tf.reduce_mean(\n",
    "    tf.nn.softmax_cross_entropy_with_logits(labels=tf_train_labels, logits=logits))\n",
    "    \n",
    "  # Optimizer.\n",
    "  optimizer = tf.train.GradientDescentOptimizer(learning_rate).minimize(loss)\n",
    "  \n",
    "  # Predictions for the training, validation, and test data.\n",
    "  train_prediction = tf.nn.softmax(logits)\n",
    "  valid_prediction = tf.nn.softmax(model(tf_valid_dataset, 'valid'))\n",
    "  test_prediction = tf.nn.softmax(model(tf_test_dataset, 'test'))"
   ]
  },
  {
   "cell_type": "code",
   "execution_count": 23,
   "metadata": {
    "collapsed": false
   },
   "outputs": [
    {
     "name": "stdout",
     "output_type": "stream",
     "text": [
      "Initialized\n",
      "step 0: Minibatch loss: 3.004710,  acc: 0.0%, Validation acc: 11.0%\n",
      "step 500: Minibatch loss: 2.117218,  acc: 37.5%, Validation acc: 48.1%\n",
      "step 1000: Minibatch loss: 0.141483,  acc: 93.8%, Validation acc: 94.0%\n",
      "step 1500: Minibatch loss: 0.006962,  acc: 100.0%, Validation acc: 97.7%\n",
      "step 2000: Minibatch loss: 0.016487,  acc: 100.0%, Validation acc: 86.6%\n",
      "step 2500: Minibatch loss: 0.038468,  acc: 100.0%, Validation acc: 99.2%\n",
      "step 3000: Minibatch loss: 0.226195,  acc: 93.8%, Validation acc: 98.0%\n",
      "step 3500: Minibatch loss: 1.199474,  acc: 75.0%, Validation acc: 98.3%\n",
      "step 4000: Minibatch loss: 0.002801,  acc: 100.0%, Validation acc: 96.6%\n",
      "step 4500: Minibatch loss: 0.004697,  acc: 100.0%, Validation acc: 93.5%\n",
      "step 5000: Minibatch loss: 0.002156,  acc: 100.0%, Validation acc: 98.9%\n",
      "step 5500: Minibatch loss: 0.016263,  acc: 100.0%, Validation acc: 99.5%\n",
      "step 6000: Minibatch loss: 0.032724,  acc: 100.0%, Validation acc: 98.4%\n",
      "step 6500: Minibatch loss: 0.155455,  acc: 93.8%, Validation acc: 99.2%\n",
      "step 7000: Minibatch loss: 0.000654,  acc: 100.0%, Validation acc: 98.4%\n",
      "step 7500: Minibatch loss: 0.021222,  acc: 100.0%, Validation acc: 99.5%\n",
      "step 8000: Minibatch loss: 0.025625,  acc: 100.0%, Validation acc: 99.5%\n",
      "step 8500: Minibatch loss: 0.266183,  acc: 93.8%, Validation acc: 99.1%\n",
      "step 9000: Minibatch loss: 0.006409,  acc: 100.0%, Validation acc: 99.3%\n",
      "step 9500: Minibatch loss: 0.062713,  acc: 93.8%, Validation acc: 96.5%\n",
      "step 10000: Minibatch loss: 0.003179,  acc: 100.0%, Validation acc: 98.8%\n",
      "step 10500: Minibatch loss: 0.899699,  acc: 75.0%, Validation acc: 98.7%\n",
      "step 11000: Minibatch loss: 0.001377,  acc: 100.0%, Validation acc: 99.0%\n",
      "step 11500: Minibatch loss: 0.000003,  acc: 100.0%, Validation acc: 99.4%\n",
      "step 12000: Minibatch loss: 0.000047,  acc: 100.0%, Validation acc: 99.1%\n",
      "step 12500: Minibatch loss: 0.024544,  acc: 100.0%, Validation acc: 99.6%\n",
      "step 13000: Minibatch loss: 0.034609,  acc: 100.0%, Validation acc: 99.6%\n",
      "step 13500: Minibatch loss: 0.607849,  acc: 93.8%, Validation acc: 99.6%\n",
      "step 14000: Minibatch loss: 0.029268,  acc: 100.0%, Validation acc: 99.4%\n",
      "step 14500: Minibatch loss: 0.026410,  acc: 100.0%, Validation acc: 99.1%\n",
      "step 15000: Minibatch loss: 0.011384,  acc: 100.0%, Validation acc: 99.7%\n",
      "step 15500: Minibatch loss: 0.000009,  acc: 100.0%, Validation acc: 99.3%\n",
      "step 16000: Minibatch loss: 0.004451,  acc: 100.0%, Validation acc: 99.4%\n"
     ]
    }
   ],
   "source": [
    "num_steps = 16001\n",
    "\n",
    "with tf.Session(graph=graph) as session:\n",
    "  tf.global_variables_initializer().run()\n",
    "  print('Initialized')\n",
    "  for step in range(num_steps):\n",
    "    offset = (step * batch_size) % (train_labels.shape[0] - batch_size)\n",
    "    batch_data = train_dataset[offset:(offset + batch_size), :, :, :]\n",
    "    batch_labels = train_labels[offset:(offset + batch_size), :]\n",
    "    feed_dict = {tf_train_dataset : batch_data, tf_train_labels : batch_labels}\n",
    "    _, l, predictions = session.run(\n",
    "      [optimizer, loss, train_prediction], feed_dict=feed_dict)\n",
    "    if (step % 500 == 0):\n",
    "      print('step %d: Minibatch loss: %f, ' % (step, l), end=\" \")\n",
    "      print('acc: %.1f%%,' % accuracy(predictions, batch_labels), end=\" \")\n",
    "      print('Validation acc: %.1f%%' % accuracy(\n",
    "        valid_prediction.eval(), valid_labels))\n",
    "  #print('Test accuracy: %.1f%%' % accuracy(test_prediction.eval(), test_labels))"
   ]
  },
  {
   "cell_type": "code",
   "execution_count": null,
   "metadata": {
    "collapsed": true
   },
   "outputs": [],
   "source": []
  }
 ],
 "metadata": {
  "kernelspec": {
   "display_name": "Python 2",
   "language": "python",
   "name": "python2"
  },
  "language_info": {
   "codemirror_mode": {
    "name": "ipython",
    "version": 2
   },
   "file_extension": ".py",
   "mimetype": "text/x-python",
   "name": "python",
   "nbconvert_exporter": "python",
   "pygments_lexer": "ipython2",
   "version": "2.7.13"
  }
 },
 "nbformat": 4,
 "nbformat_minor": 0
}
